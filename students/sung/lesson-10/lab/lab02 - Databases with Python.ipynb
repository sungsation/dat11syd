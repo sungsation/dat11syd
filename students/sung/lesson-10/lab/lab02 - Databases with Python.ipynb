{
 "cells": [
  {
   "cell_type": "markdown",
   "metadata": {},
   "source": [
    "# Data Science Part Time Course\n",
    "\n",
    "## Week 5 - Lesson 2 - Lab: Databases with Python\n",
    "\n",
    "In this Lab the goal is connect to a database (created form a local file), read the data into Python and interact with it."
   ]
  },
  {
   "cell_type": "markdown",
   "metadata": {},
   "source": [
    "## 1. Data import\n",
    "\n",
    "Connect to the file 'assets/datasets/enron.db' using one of these methods:\n",
    "\n",
    "- sqlite3 python package\n",
    "- pandas.read_sql\n",
    "- SQLite Manager Firefox extension\n",
    "\n",
    "Take a look at the database and query the master table. How many Tables are there in the db?\n",
    "\n",
    "> Answer:\n",
    "There are 3 tables:\n",
    "- MessageBase\n",
    "- RecipientBase\n",
    "- EmployeeBase"
   ]
  },
  {
   "cell_type": "code",
   "execution_count": 3,
   "metadata": {},
   "outputs": [
    {
     "data": {
      "text/plain": [
       "[('MessageBase',), ('RecipientBase',), ('EmployeeBase',)]"
      ]
     },
     "execution_count": 3,
     "metadata": {},
     "output_type": "execute_result"
    }
   ],
   "source": [
    "import sqlite3\n",
    "conn = sqlite3.connect('../../../../data/enron.db') \n",
    "c = conn.cursor()\n",
    "c.execute(\"SELECT name FROM sqlite_master WHERE type='table';\").fetchall()"
   ]
  },
  {
   "cell_type": "markdown",
   "metadata": {},
   "source": [
    "Query the `sqlite_master` table to retrieve the **schema** of the `EmployeeBase` table.\n",
    "\n",
    "1. What fields are there?\n",
    "\n",
    "\n",
    "1. What's the type of each of them?"
   ]
  },
  {
   "cell_type": "code",
   "execution_count": 5,
   "metadata": {},
   "outputs": [
    {
     "name": "stdout",
     "output_type": "stream",
     "text": [
      "CREATE TABLE MessageBase (\n",
      "    mid INTEGER,\n",
      "    filename TEXT,\n",
      "    unix_time INTEGER,\n",
      "    subject TEXT,\n",
      "    from_eid INTEGER,\n",
      "    \n",
      "    PRIMARY KEY(mid ASC),\n",
      "    FOREIGN KEY(from_eid) REFERENCES Employee(eid)\n",
      ")\n",
      "CREATE TABLE RecipientBase (\n",
      "    mid INTEGER,\n",
      "    rno INTEGER,\n",
      "    to_eid INTEGER,\n",
      "    \n",
      "    PRIMARY KEY(mid ASC, rno ASC)\n",
      "    FOREIGN KEY(mid) REFERENCES Message(mid)\n",
      "    FOREIGN KEY(to_eid) REFERENCES Employee(eid)\n",
      ")\n",
      "CREATE TABLE EmployeeBase (\n",
      "                  [eid] INTEGER,\n",
      "  [name] TEXT,\n",
      "  [department] TEXT,\n",
      "  [longdepartment] TEXT,\n",
      "  [title] TEXT,\n",
      "  [gender] TEXT,\n",
      "  [seniority] TEXT\n",
      "                  \n",
      "                  )\n"
     ]
    }
   ],
   "source": [
    "fields = c.execute(\"SELECT sql from sqlite_master WHERE type='table' and name='MessageBase';\").fetchall()\n",
    "print (''.join(fields[0]))\n",
    "\n",
    "fields = c.execute(\"SELECT sql from sqlite_master WHERE type='table' and name='RecipientBase';\").fetchall()\n",
    "print (''.join(fields[0]))\n",
    "\n",
    "fields = c.execute(\"SELECT sql from sqlite_master WHERE type='table' and name='EmployeeBase';\").fetchall()\n",
    "print (''.join(fields[0]))"
   ]
  },
  {
   "cell_type": "markdown",
   "metadata": {},
   "source": [
    "1. Print the first 5 rows of EmployeeBase table\n",
    "1. Print the first 5 rows of MessageBase table\n",
    "1. Print the first 5 rows of RecipientBase table\n",
    "\n",
    "**Hint**  use `SELECT` and `LIMIT`."
   ]
  },
  {
   "cell_type": "code",
   "execution_count": 11,
   "metadata": {},
   "outputs": [
    {
     "name": "stdout",
     "output_type": "stream",
     "text": [
      "(1, 'John Arnold', 'Forestry', 'ENA Gas Financial', 'VP Trading', 'Male', 'Senior')\n",
      "(2, 'Harry Arora', 'Forestry', 'ENA East Power', 'VP Trading', 'Male', 'Senior')\n",
      "(3, 'Robert Badeer', 'Forestry', 'ENA West Power', 'Mgr Trading', 'Male', 'Junior')\n",
      "(4, 'Susan Bailey', 'Legal', 'ENA Legal', 'Specialist Legal', 'Female', 'Junior')\n",
      "(5, 'Eric Bass', 'Forestry', 'ENA Gas Texas', 'Trader', 'Male', 'Junior')\n"
     ]
    }
   ],
   "source": [
    "results = c.execute(\"SELECT * FROM EmployeeBase LIMIT 5;\").fetchall()\n",
    "for row in results:\n",
    "    print (row)"
   ]
  },
  {
   "cell_type": "code",
   "execution_count": 12,
   "metadata": {},
   "outputs": [
    {
     "name": "stdout",
     "output_type": "stream",
     "text": [
      "(1, 'taylor-m/sent/11', 910930020, 'Cd$ CME letter', 138)\n",
      "(2, 'taylor-m/sent/17', 911459940, 'Indemnification', 138)\n",
      "(3, 'taylor-m/sent/18', 911463840, 'Re: Indemnification', 138)\n",
      "(4, 'taylor-m/sent/23', 911874180, 'Re: Coral Energy, L.P.', 138)\n",
      "(5, 'taylor-m/sent/27', 912396120, 'Bankruptcy Code revisions', 138)\n"
     ]
    }
   ],
   "source": [
    "results = c.execute(\"SELECT * FROM MessageBase LIMIT 5;\").fetchall()\n",
    "for row in results:\n",
    "    print (row)"
   ]
  },
  {
   "cell_type": "code",
   "execution_count": 16,
   "metadata": {
    "scrolled": true
   },
   "outputs": [
    {
     "name": "stdout",
     "output_type": "stream",
     "text": [
      "(1, 1, 59)\n",
      "(2, 1, 15)\n",
      "(3, 1, 15)\n",
      "(4, 1, 109)\n",
      "(4, 2, 49)\n",
      "(4, 3, 120)\n",
      "(4, 4, 59)\n",
      "(5, 1, 45)\n",
      "(5, 2, 53)\n",
      "(6, 1, 113)\n"
     ]
    }
   ],
   "source": [
    "results = c.execute(\"SELECT * FROM RecipientBase LIMIT 10;\").fetchall()\n",
    "for row in results:\n",
    "    print (row)\n",
    "    \n",
    "# The first field is message id, the second is recipient number, and the third is the id of the recipient.\n",
    "# mid, rno, to_eid"
   ]
  },
  {
   "cell_type": "markdown",
   "metadata": {},
   "source": [
    "Now try other SQL statements on the local database, such as SELECT .... FROM ... WHERE ....\n",
    "\n",
    "For example, print the records of EmployeeBase where the Gender is male "
   ]
  },
  {
   "cell_type": "code",
   "execution_count": 25,
   "metadata": {},
   "outputs": [
    {
     "name": "stdout",
     "output_type": "stream",
     "text": [
      "(1, 'John Arnold', 'Forestry', 'ENA Gas Financial', 'VP Trading', 'Male', 'Senior')\n",
      "(2, 'Harry Arora', 'Forestry', 'ENA East Power', 'VP Trading', 'Male', 'Senior')\n",
      "(3, 'Robert Badeer', 'Forestry', 'ENA West Power', 'Mgr Trading', 'Male', 'Junior')\n",
      "(5, 'Eric Bass', 'Forestry', 'ENA Gas Texas', 'Trader', 'Male', 'Junior')\n",
      "(6, 'Don Baughman Jr.', 'Forestry', 'ENA East Power', 'Mgr Trading', 'Male', 'Junior')\n",
      "(8, 'Robert Benson', 'Forestry', 'ENA East Power', 'Dir Trading', 'Male', 'Senior')\n",
      "(11, 'Rick Buy', 'Forestry', 'Enron', 'VP & CRO', 'Male', 'Senior')\n",
      "(12, 'Larry Campbell', 'Other', 'ETS', 'Specialist', 'Male', 'Junior')\n",
      "(13, 'Larry F. Campbell', 'Other', 'ENA East Power', 'Specialist', 'Male', 'Junior')\n",
      "(14, 'Mike Carson', 'Forestry', 'ENA East Power', 'Mgr Trading', 'Male', 'Junior')\n",
      "(18, 'Sean Crandall', 'Forestry', 'ENA West Power', 'Dir Trading', 'Male', 'Senior')\n",
      "(19, 'Martin Cuilla', 'Forestry', 'ENA Gas Central', 'Mgr Trading', 'Male', 'Junior')\n",
      "(20, 'Jeff Dasovich', 'Legal', 'Regulatory and Government Affairs', 'Director', 'Male', 'Senior')\n",
      "(22, 'Clint Dean', 'Forestry', 'ENA East Power', 'Mgr Trading', 'Male', 'Junior')\n",
      "(23, 'Craig Dean', 'Other', 'ENA West Power Real Time', 'Specialist', 'Male', 'Junior')\n",
      "(24, 'David W. Delainey', 'Other', 'EWS', 'President & CEO', 'Male', 'Senior')\n",
      "(25, 'James Derrick Jr.', 'Legal', 'Enron', 'VP & Gen Cnsl', 'Male', 'Senior')\n",
      "(28, 'Tom Donohoe', 'Forestry', 'ENA Gas Central', 'Mgr Trading', 'Male', 'Junior')\n",
      "(29, 'Chris Dorland', 'Forestry', 'ENA East Power', 'Mgr Trading', 'Male', 'Junior')\n",
      "(30, 'Frank Ermis', 'Forestry', 'ENA Gas West', 'Dir Trading', 'Male', 'Senior')\n",
      "(31, 'Daren J. Farmer', 'Forestry', 'ENA Gas Texas', 'Dir Trading', 'Male', 'Senior')\n",
      "(33, 'John M. Forney', 'Forestry', 'ENA East Power', 'Dir Trading', 'Male', 'Senior')\n",
      "(34, 'Drew Fossum', 'Legal', 'ETS', 'VP & Gen Cnsl', 'Male', 'Senior')\n",
      "(36, 'Randall L. Gay', 'Other', 'ENA Gas West', 'Associate', 'Male', 'Junior')\n",
      "(37, 'Rob G. Gay', 'Other', 'NA', 'Employee', 'Male', 'Junior')\n",
      "(39, 'Chris Germany', 'Forestry', 'ENA Gas East', 'Mgr Trading', 'Male', 'Junior')\n",
      "(40, 'Doug Gilbert-Smith', 'Forestry', 'ENA East Power', 'Dir Trading', 'Male', 'Senior')\n",
      "(41, 'Darron C. Giron', 'Forestry', 'Energy Operations', 'Mgr Trading', 'Male', 'Junior')\n",
      "(42, 'John Griffith', 'Forestry', 'ENA Gas Financial', 'Mgr Trading', 'Male', 'Junior')\n",
      "(43, 'Mike Grigsby', 'Forestry', 'ENA Gas West', 'VP Trading', 'Male', 'Senior')\n",
      "(44, 'Mark Guzman', 'Other', 'ENA West Power Real Time', 'Specialist', 'Male', 'Junior')\n",
      "(45, 'Mark E. Haedicke', 'Legal', 'ENA Legal', 'Mng Director & Gen Cnsl', 'Male', 'Senior')\n",
      "(47, 'Steven Harris', 'Other', 'ETS', 'VP', 'Male', 'Senior')\n",
      "(48, 'Rod Hayslett', 'Other', 'ETS', 'VP & CFO', 'Male', 'Senior')\n",
      "(50, 'Scott Hendrickson', 'Forestry', 'ENA Gas East', 'Dir Trading', 'Male', 'Senior')\n",
      "(51, 'Juan Hernandez', 'Forestry', 'ENA East Power', 'Mgr Trading', 'Male', 'Junior')\n",
      "(53, 'Jeffrey T. Hodge', 'Legal', 'ENA Legal', 'VP & Asst Gen Cnsl', 'Male', 'Senior')\n",
      "(54, 'John Hodge', 'Forestry', 'ENA Gas East', 'Dir Trading', 'Male', 'Senior')\n",
      "(55, 'Keith Holst', 'Forestry', 'ENA Gas West', 'Dir Trading', 'Male', 'Senior')\n",
      "(56, 'Stanley Horton', 'Other', 'ETS', 'President & CEO', 'Male', 'Senior')\n",
      "(57, 'Kevin Hyatt', 'Other', 'ETS', 'Director', 'Male', 'Senior')\n",
      "(58, 'Dan J. Hyvl', 'Legal', 'ENA Legal', 'Employee', 'Male', 'Junior')\n",
      "(60, 'Vince J. Kaminski', 'Other', 'EWS', 'Mng Director Research', 'Male', 'Senior')\n",
      "(61, 'Steven J. Kean', 'Other', 'Enron', 'VP & Chief of Staff', 'Male', 'Senior')\n",
      "(62, 'Peter F. Keavey', 'Forestry', 'ENA Gas East', 'Mgr Trading', 'Male', 'Junior')\n",
      "(64, 'Jeff King', 'Forestry', 'ENA East Power', 'Mgr Trading', 'Male', 'Junior')\n",
      "(67, 'John J. Lavorato', 'Other', 'EWS', 'ENA President & CEO', 'Male', 'Senior')\n",
      "(68, 'Kenneth Lay', 'Other', 'Enron', 'President & CEO', 'Male', 'Senior')\n",
      "(69, 'Matthew Lenhart', 'Other', 'ENA Gas West', 'Analyst', 'Male', 'Junior')\n",
      "(70, 'Andrew H. Lewis', 'Forestry', 'ENA Gas Central', 'Dir Trading', 'Male', 'Senior')\n",
      "(71, 'Eric Linder', 'Other', 'ENA West Power Real Time', 'Specialist', 'Male', 'Junior')\n",
      "(73, 'Teb Lokey', 'Other', 'ETS', 'Employee', 'Male', 'Junior')\n",
      "(74, 'Phillip M. Love', 'Other', 'Energy Operations', 'Specialist', 'Male', 'Junior')\n",
      "(75, 'Paul T. Lucci', 'Forestry', 'ENA Gas West', 'Dir Trading', 'Male', 'Senior')\n",
      "(76, 'Mike Maggi', 'Forestry', 'ENA Gas Financial', 'Dir Trading', 'Male', 'Senior')\n",
      "(78, 'Thomas A. Martin', 'Forestry', 'ENA Gas Texas', 'VP Trading', 'Male', 'Senior')\n",
      "(79, 'Larry May', 'Forestry', 'ENA Gas Financial', 'Dir Trading', 'Male', 'Senior')\n",
      "(80, 'Danny McCarty', 'Other', 'ETS', 'VP & CTO', 'Male', 'Senior')\n",
      "(81, 'Mark McConnell', 'Other', 'ETS', 'Director', 'Male', 'Senior')\n",
      "(82, 'Mike McConnell', 'Other', 'EWS', 'EGM President & CEO', 'Male', 'Senior')\n",
      "(83, 'Brad McKay', 'Forestry', 'ENA Gas East', 'Dir Trading', 'Male', 'Senior')\n",
      "(84, 'Jonathan McKay', 'Forestry', 'ENA Gas East', 'Dir Trading', 'Male', 'Senior')\n",
      "(85, 'Errol McLaughlin Jr.', 'Other', 'Energy Operations', 'Specialist', 'Male', 'Junior')\n",
      "(86, 'Steven Merris', 'Other', 'ENA West Power Real Time', 'Specialist', 'Male', 'Junior')\n",
      "(87, 'Bert Meyers', 'Other', 'ENA West Power Real Time', 'Specialist', 'Male', 'Junior')\n",
      "(89, 'Matt Motley', 'Forestry', 'ENA West Power Real Time', 'Dir Trading', 'Male', 'Senior')\n",
      "(90, 'Scott Neal', 'Forestry', 'ENA Gas East', 'VP Trading', 'Male', 'Senior')\n",
      "(91, 'Gerald Nemec', 'Legal', 'ENA Legal', 'Manager', 'Male', 'Junior')\n",
      "(93, 'Joe Parks', 'Forestry', 'ENA Gas Central', 'Mgr Trading', 'Male', 'Junior')\n",
      "(96, 'Vladi Pimenov', 'Other', 'ENA Gas East', 'Associate', 'Male', 'Junior')\n",
      "(97, 'Phillip Platter', 'Other', 'ENA West Power', 'Specialist', 'Male', 'Junior')\n",
      "(98, 'Kevin M. Presto', 'Forestry', 'ENA East Power', 'VP Trading', 'Male', 'Senior')\n",
      "(99, 'Joe Quenet', 'Forestry', 'ENA East Power', 'Mgr Trading', 'Male', 'Junior')\n",
      "(100, 'Dutch Quigley', 'Other', 'ENA Gas Financial', 'Associate', 'Male', 'Junior')\n",
      "(101, 'Bill Rapp', 'Legal', 'ETS', 'Attorney', 'Male', 'Junior')\n",
      "(102, 'Jay Reitmeyer', 'Other', 'ENA Gas West', 'Associate', 'Male', 'Junior')\n",
      "(103, 'Cooper Richey', 'Other', 'ENA West Power', 'Associate', 'Male', 'Junior')\n",
      "(105, 'Richard Ring', 'Other', 'EES', 'Employee', 'Male', 'Junior')\n",
      "(107, 'Benjamin Rogers', 'Other', 'ENA East Power', 'Associate', 'Male', 'Junior')\n",
      "(108, 'Kevin Ruscitti', 'Forestry', 'ENA Gas Central', 'Mgr Trading', 'Male', 'Junior')\n",
      "(110, 'Eric Saibi', 'Other', 'ENA East Power', 'Analyst', 'Male', 'Junior')\n",
      "(111, 'Holden Salisbury', 'Other', 'ENA West Power', 'Analyst', 'Male', 'Junior')\n",
      "(113, 'Richard B. Sanders', 'Legal', 'ENA Legal', 'VP & Asst Gen Cnsl', 'Male', 'Senior')\n",
      "(115, 'Darrell Schoolcraft', 'Other', 'ETS', 'Employee', 'Male', 'Junior')\n",
      "(116, 'Jim Schwieger', 'Forestry', 'ENA Gas Texas', 'Trader', 'Male', 'Junior')\n",
      "(121, 'Jeffrey A. Shankman', 'Other', 'EWS', 'COO', 'Male', 'Senior')\n",
      "(122, 'Richard Shapiro', 'Legal', 'Regulatory and Government Affairs', 'VP of Regulatory Affairs', 'Male', 'Senior')\n",
      "(123, 'Hunter S. Shively', 'Forestry', 'ENA Gas Central', 'VP Trading', 'Male', 'Senior')\n",
      "(124, 'Jeff Skilling', 'Other', 'Enron', 'President & CEO', 'Male', 'Senior')\n",
      "(125, 'Ryan Slinger', 'Other', 'ENA West Power Real Time', 'Specialist', 'Male', 'Junior')\n",
      "(126, 'Matt Smith', 'Other', 'ENA Gas West', 'Associate', 'Male', 'Junior')\n",
      "(127, 'Geir Solberg', 'Other', 'ENA West Power Real Time', 'Analyst', 'Male', 'Junior')\n",
      "(128, 'Steven P. South', 'Forestry', 'ENA Gas West', 'Dir Trading', 'Male', 'Senior')\n",
      "(131, 'James D. Steffes', 'Legal', 'Regulatory and Government Affairs', 'VP of Government Affairs', 'Male', 'Senior')\n",
      "(132, 'Joe Stepenovitch', 'Other', 'ENA East Power', 'Specialist', 'Male', 'Junior')\n",
      "(133, 'Chris Stokley', 'Other', 'ENA West Power', 'Specialist', 'Male', 'Junior')\n",
      "(134, 'Geoff Storey', 'Forestry', 'ENA Gas Central', 'Dir Trading', 'Male', 'Senior')\n",
      "(135, 'Fletcher J. Sturm', 'Forestry', 'ENA East Power', 'VP Trading', 'Male', 'Senior')\n",
      "(136, 'Mike Swerzbin', 'Forestry', 'ENA West Power', 'VP Trading', 'Male', 'Senior')\n",
      "(138, 'Mark E. Taylor', 'Legal', 'ENA Legal', 'VP & Gen Cnsl', 'Male', 'Senior')\n",
      "(139, 'Michael E. Taylor', 'Forestry', 'Energy Operations', 'Trader', 'Male', 'Junior')\n",
      "(141, 'Paul D. Thomas', 'Other', 'ENA East Power', 'Associate', 'Male', 'Junior')\n",
      "(143, 'Barry Tycholiz', 'Forestry', 'ENA Gas West', 'VP Trading', 'Male', 'Senior')\n",
      "(146, 'V Charles Weldon', 'Other', 'ENA Gas Texas', 'Associate', 'Male', 'Junior')\n",
      "(147, 'Greg Whalley', 'Other', 'EWS', 'President & CEO', 'Male', 'Senior')\n",
      "(149, 'Mark Whitt', 'Forestry', 'ENA Gas West', 'VP Trading', 'Male', 'Senior')\n",
      "(150, 'Jason Williams', 'Other', 'ENA Gas Central', 'Specialist', 'Male', 'Junior')\n",
      "(151, 'Bill Williams III', 'Other', 'ENA West Power Real Time', 'Analyst', 'Male', 'Junior')\n",
      "(152, 'Jason Wolfe', 'Other', 'ENA Gas West', 'Analyst', 'Male', 'Junior')\n",
      "(153, 'Paul Y’Barbo', 'Other', 'ETS', 'Director', 'Male', 'Senior')\n",
      "(154, 'Andy Zipper', 'Other', 'EWS', 'VP of Enron Online', 'Male', 'Senior')\n",
      "(155, 'John Zufferli', 'Other', 'EWS', 'VP of Enron Canada', 'Male', 'Senior')\n",
      "(156, 'Phillip K. Allen', 'Forestry', 'ENA Gas West', 'Mng Dir Trading', 'Male', 'Senior')\n"
     ]
    }
   ],
   "source": [
    "results = c.execute(\"SELECT * FROM EmployeeBase WHERE Gender == 'Male' LIMIT 1000;\")\n",
    "for row in results:\n",
    "    print (row)"
   ]
  },
  {
   "cell_type": "markdown",
   "metadata": {},
   "source": [
    "#### Import each of the 3 tables to a Pandas Dataframes"
   ]
  },
  {
   "cell_type": "code",
   "execution_count": 26,
   "metadata": {
    "collapsed": true
   },
   "outputs": [],
   "source": [
    "import pandas as pd\n",
    "employees = pd.read_sql(\"SELECT * FROM EmployeeBase;\", conn)\n",
    "recipients = pd.read_sql(\"SELECT * FROM RecipientBase;\", conn)\n",
    "messages = pd.read_sql(\"SELECT * FROM MessageBase;\", conn)"
   ]
  },
  {
   "cell_type": "code",
   "execution_count": 27,
   "metadata": {},
   "outputs": [
    {
     "data": {
      "text/html": [
       "<div>\n",
       "<style>\n",
       "    .dataframe thead tr:only-child th {\n",
       "        text-align: right;\n",
       "    }\n",
       "\n",
       "    .dataframe thead th {\n",
       "        text-align: left;\n",
       "    }\n",
       "\n",
       "    .dataframe tbody tr th {\n",
       "        vertical-align: top;\n",
       "    }\n",
       "</style>\n",
       "<table border=\"1\" class=\"dataframe\">\n",
       "  <thead>\n",
       "    <tr style=\"text-align: right;\">\n",
       "      <th></th>\n",
       "      <th>mid</th>\n",
       "      <th>rno</th>\n",
       "      <th>to_eid</th>\n",
       "    </tr>\n",
       "  </thead>\n",
       "  <tbody>\n",
       "    <tr>\n",
       "      <th>0</th>\n",
       "      <td>1</td>\n",
       "      <td>1</td>\n",
       "      <td>59</td>\n",
       "    </tr>\n",
       "    <tr>\n",
       "      <th>1</th>\n",
       "      <td>2</td>\n",
       "      <td>1</td>\n",
       "      <td>15</td>\n",
       "    </tr>\n",
       "    <tr>\n",
       "      <th>2</th>\n",
       "      <td>3</td>\n",
       "      <td>1</td>\n",
       "      <td>15</td>\n",
       "    </tr>\n",
       "    <tr>\n",
       "      <th>3</th>\n",
       "      <td>4</td>\n",
       "      <td>1</td>\n",
       "      <td>109</td>\n",
       "    </tr>\n",
       "    <tr>\n",
       "      <th>4</th>\n",
       "      <td>4</td>\n",
       "      <td>2</td>\n",
       "      <td>49</td>\n",
       "    </tr>\n",
       "    <tr>\n",
       "      <th>5</th>\n",
       "      <td>4</td>\n",
       "      <td>3</td>\n",
       "      <td>120</td>\n",
       "    </tr>\n",
       "    <tr>\n",
       "      <th>6</th>\n",
       "      <td>4</td>\n",
       "      <td>4</td>\n",
       "      <td>59</td>\n",
       "    </tr>\n",
       "    <tr>\n",
       "      <th>7</th>\n",
       "      <td>5</td>\n",
       "      <td>1</td>\n",
       "      <td>45</td>\n",
       "    </tr>\n",
       "    <tr>\n",
       "      <th>8</th>\n",
       "      <td>5</td>\n",
       "      <td>2</td>\n",
       "      <td>53</td>\n",
       "    </tr>\n",
       "    <tr>\n",
       "      <th>9</th>\n",
       "      <td>6</td>\n",
       "      <td>1</td>\n",
       "      <td>113</td>\n",
       "    </tr>\n",
       "  </tbody>\n",
       "</table>\n",
       "</div>"
      ],
      "text/plain": [
       "   mid  rno  to_eid\n",
       "0    1    1      59\n",
       "1    2    1      15\n",
       "2    3    1      15\n",
       "3    4    1     109\n",
       "4    4    2      49\n",
       "5    4    3     120\n",
       "6    4    4      59\n",
       "7    5    1      45\n",
       "8    5    2      53\n",
       "9    6    1     113"
      ]
     },
     "execution_count": 27,
     "metadata": {},
     "output_type": "execute_result"
    }
   ],
   "source": [
    "recipients.head(10)"
   ]
  },
  {
   "cell_type": "markdown",
   "metadata": {},
   "source": [
    "## 2. Data Exploration\n",
    "\n",
    "Use the 3 dataframes to answer the following questions:\n",
    "\n",
    "1. How many employees are there in the company?\n",
    "- How many messages are there in the database?\n",
    "- Some messages are sent to more than one recipient. Group the messages by message_id and count the number of recepients. Then look at the distribution of recepient numbers.\n",
    "    - How many messages have only one recepient?\n",
    "    - How many messages have >= 5 recepients?\n",
    "    - What's the highest number of recepients?\n",
    "    - Who sent the message with the highest number of recepients?\n",
    "- Plot the distribution of recepient numbers using Bokeh."
   ]
  },
  {
   "cell_type": "code",
   "execution_count": 28,
   "metadata": {},
   "outputs": [
    {
     "data": {
      "text/html": [
       "<div>\n",
       "<style>\n",
       "    .dataframe thead tr:only-child th {\n",
       "        text-align: right;\n",
       "    }\n",
       "\n",
       "    .dataframe thead th {\n",
       "        text-align: left;\n",
       "    }\n",
       "\n",
       "    .dataframe tbody tr th {\n",
       "        vertical-align: top;\n",
       "    }\n",
       "</style>\n",
       "<table border=\"1\" class=\"dataframe\">\n",
       "  <thead>\n",
       "    <tr style=\"text-align: right;\">\n",
       "      <th></th>\n",
       "      <th>eid</th>\n",
       "    </tr>\n",
       "  </thead>\n",
       "  <tbody>\n",
       "    <tr>\n",
       "      <th>count</th>\n",
       "      <td>156.000000</td>\n",
       "    </tr>\n",
       "    <tr>\n",
       "      <th>mean</th>\n",
       "      <td>78.500000</td>\n",
       "    </tr>\n",
       "    <tr>\n",
       "      <th>std</th>\n",
       "      <td>45.177428</td>\n",
       "    </tr>\n",
       "    <tr>\n",
       "      <th>min</th>\n",
       "      <td>1.000000</td>\n",
       "    </tr>\n",
       "    <tr>\n",
       "      <th>25%</th>\n",
       "      <td>39.750000</td>\n",
       "    </tr>\n",
       "    <tr>\n",
       "      <th>50%</th>\n",
       "      <td>78.500000</td>\n",
       "    </tr>\n",
       "    <tr>\n",
       "      <th>75%</th>\n",
       "      <td>117.250000</td>\n",
       "    </tr>\n",
       "    <tr>\n",
       "      <th>max</th>\n",
       "      <td>156.000000</td>\n",
       "    </tr>\n",
       "  </tbody>\n",
       "</table>\n",
       "</div>"
      ],
      "text/plain": [
       "              eid\n",
       "count  156.000000\n",
       "mean    78.500000\n",
       "std     45.177428\n",
       "min      1.000000\n",
       "25%     39.750000\n",
       "50%     78.500000\n",
       "75%    117.250000\n",
       "max    156.000000"
      ]
     },
     "execution_count": 28,
     "metadata": {},
     "output_type": "execute_result"
    }
   ],
   "source": [
    "employees.describe()"
   ]
  },
  {
   "cell_type": "code",
   "execution_count": 30,
   "metadata": {},
   "outputs": [
    {
     "data": {
      "text/html": [
       "<div>\n",
       "<style>\n",
       "    .dataframe thead tr:only-child th {\n",
       "        text-align: right;\n",
       "    }\n",
       "\n",
       "    .dataframe thead th {\n",
       "        text-align: left;\n",
       "    }\n",
       "\n",
       "    .dataframe tbody tr th {\n",
       "        vertical-align: top;\n",
       "    }\n",
       "</style>\n",
       "<table border=\"1\" class=\"dataframe\">\n",
       "  <thead>\n",
       "    <tr style=\"text-align: right;\">\n",
       "      <th></th>\n",
       "      <th>mid</th>\n",
       "      <th>unix_time</th>\n",
       "      <th>from_eid</th>\n",
       "    </tr>\n",
       "  </thead>\n",
       "  <tbody>\n",
       "    <tr>\n",
       "      <th>count</th>\n",
       "      <td>21635.000000</td>\n",
       "      <td>2.163500e+04</td>\n",
       "      <td>21635.000000</td>\n",
       "    </tr>\n",
       "    <tr>\n",
       "      <th>mean</th>\n",
       "      <td>10818.000000</td>\n",
       "      <td>9.853194e+08</td>\n",
       "      <td>78.820800</td>\n",
       "    </tr>\n",
       "    <tr>\n",
       "      <th>std</th>\n",
       "      <td>6245.630873</td>\n",
       "      <td>1.972066e+07</td>\n",
       "      <td>45.203487</td>\n",
       "    </tr>\n",
       "    <tr>\n",
       "      <th>min</th>\n",
       "      <td>1.000000</td>\n",
       "      <td>9.109300e+08</td>\n",
       "      <td>1.000000</td>\n",
       "    </tr>\n",
       "    <tr>\n",
       "      <th>25%</th>\n",
       "      <td>5409.500000</td>\n",
       "      <td>9.722714e+08</td>\n",
       "      <td>42.000000</td>\n",
       "    </tr>\n",
       "    <tr>\n",
       "      <th>50%</th>\n",
       "      <td>10818.000000</td>\n",
       "      <td>9.870878e+08</td>\n",
       "      <td>72.000000</td>\n",
       "    </tr>\n",
       "    <tr>\n",
       "      <th>75%</th>\n",
       "      <td>16226.500000</td>\n",
       "      <td>1.002635e+09</td>\n",
       "      <td>120.000000</td>\n",
       "    </tr>\n",
       "    <tr>\n",
       "      <th>max</th>\n",
       "      <td>21635.000000</td>\n",
       "      <td>1.024667e+09</td>\n",
       "      <td>156.000000</td>\n",
       "    </tr>\n",
       "  </tbody>\n",
       "</table>\n",
       "</div>"
      ],
      "text/plain": [
       "                mid     unix_time      from_eid\n",
       "count  21635.000000  2.163500e+04  21635.000000\n",
       "mean   10818.000000  9.853194e+08     78.820800\n",
       "std     6245.630873  1.972066e+07     45.203487\n",
       "min        1.000000  9.109300e+08      1.000000\n",
       "25%     5409.500000  9.722714e+08     42.000000\n",
       "50%    10818.000000  9.870878e+08     72.000000\n",
       "75%    16226.500000  1.002635e+09    120.000000\n",
       "max    21635.000000  1.024667e+09    156.000000"
      ]
     },
     "execution_count": 30,
     "metadata": {},
     "output_type": "execute_result"
    }
   ],
   "source": [
    "messages.describe()"
   ]
  },
  {
   "cell_type": "code",
   "execution_count": 31,
   "metadata": {},
   "outputs": [
    {
     "data": {
      "text/html": [
       "<div>\n",
       "<style>\n",
       "    .dataframe thead tr:only-child th {\n",
       "        text-align: right;\n",
       "    }\n",
       "\n",
       "    .dataframe thead th {\n",
       "        text-align: left;\n",
       "    }\n",
       "\n",
       "    .dataframe tbody tr th {\n",
       "        vertical-align: top;\n",
       "    }\n",
       "</style>\n",
       "<table border=\"1\" class=\"dataframe\">\n",
       "  <thead>\n",
       "    <tr style=\"text-align: right;\">\n",
       "      <th></th>\n",
       "      <th>mid</th>\n",
       "      <th>rno</th>\n",
       "      <th>to_eid</th>\n",
       "    </tr>\n",
       "  </thead>\n",
       "  <tbody>\n",
       "    <tr>\n",
       "      <th>count</th>\n",
       "      <td>38388.000000</td>\n",
       "      <td>38388.000000</td>\n",
       "      <td>38388.000000</td>\n",
       "    </tr>\n",
       "    <tr>\n",
       "      <th>mean</th>\n",
       "      <td>10952.515239</td>\n",
       "      <td>2.380900</td>\n",
       "      <td>83.140513</td>\n",
       "    </tr>\n",
       "    <tr>\n",
       "      <th>std</th>\n",
       "      <td>6066.838042</td>\n",
       "      <td>3.303827</td>\n",
       "      <td>44.993791</td>\n",
       "    </tr>\n",
       "    <tr>\n",
       "      <th>min</th>\n",
       "      <td>1.000000</td>\n",
       "      <td>1.000000</td>\n",
       "      <td>1.000000</td>\n",
       "    </tr>\n",
       "    <tr>\n",
       "      <th>25%</th>\n",
       "      <td>5899.000000</td>\n",
       "      <td>1.000000</td>\n",
       "      <td>47.000000</td>\n",
       "    </tr>\n",
       "    <tr>\n",
       "      <th>50%</th>\n",
       "      <td>11070.000000</td>\n",
       "      <td>1.000000</td>\n",
       "      <td>80.000000</td>\n",
       "    </tr>\n",
       "    <tr>\n",
       "      <th>75%</th>\n",
       "      <td>15964.000000</td>\n",
       "      <td>3.000000</td>\n",
       "      <td>122.000000</td>\n",
       "    </tr>\n",
       "    <tr>\n",
       "      <th>max</th>\n",
       "      <td>21635.000000</td>\n",
       "      <td>57.000000</td>\n",
       "      <td>156.000000</td>\n",
       "    </tr>\n",
       "  </tbody>\n",
       "</table>\n",
       "</div>"
      ],
      "text/plain": [
       "                mid           rno        to_eid\n",
       "count  38388.000000  38388.000000  38388.000000\n",
       "mean   10952.515239      2.380900     83.140513\n",
       "std     6066.838042      3.303827     44.993791\n",
       "min        1.000000      1.000000      1.000000\n",
       "25%     5899.000000      1.000000     47.000000\n",
       "50%    11070.000000      1.000000     80.000000\n",
       "75%    15964.000000      3.000000    122.000000\n",
       "max    21635.000000     57.000000    156.000000"
      ]
     },
     "execution_count": 31,
     "metadata": {},
     "output_type": "execute_result"
    }
   ],
   "source": [
    "recipients.describe()"
   ]
  },
  {
   "cell_type": "code",
   "execution_count": null,
   "metadata": {
    "collapsed": true
   },
   "outputs": [],
   "source": []
  },
  {
   "cell_type": "code",
   "execution_count": null,
   "metadata": {
    "collapsed": true
   },
   "outputs": [],
   "source": []
  },
  {
   "cell_type": "code",
   "execution_count": null,
   "metadata": {
    "collapsed": true
   },
   "outputs": [],
   "source": []
  },
  {
   "cell_type": "markdown",
   "metadata": {},
   "source": [
    "## 3. Data Merging\n",
    "\n",
    "Use the pandas merge function to combine the information in the 3 dataframes to answer the following questions:\n",
    "\n",
    "1. Are there more Men or Women employees?\n",
    "- How is gender distributed across departments?\n",
    "- Who is sending more emails? Men or Women?\n",
    "- What's the average number of emails sent by each gender?\n",
    "- Are there more Juniors or Seniors?\n",
    "- Who is sending more emails? Juniors or Seniors?\n",
    "- Which department is sending more emails? How does that relate with the number of employees in the department?\n",
    "- Who are the top 3 senders of emails? (people who sent out the most emails)"
   ]
  },
  {
   "cell_type": "code",
   "execution_count": null,
   "metadata": {
    "collapsed": true
   },
   "outputs": [],
   "source": []
  },
  {
   "cell_type": "code",
   "execution_count": null,
   "metadata": {
    "collapsed": true
   },
   "outputs": [],
   "source": []
  },
  {
   "cell_type": "code",
   "execution_count": null,
   "metadata": {
    "collapsed": true
   },
   "outputs": [],
   "source": []
  },
  {
   "cell_type": "code",
   "execution_count": null,
   "metadata": {
    "collapsed": true
   },
   "outputs": [],
   "source": []
  },
  {
   "cell_type": "code",
   "execution_count": null,
   "metadata": {
    "collapsed": true
   },
   "outputs": [],
   "source": []
  }
 ],
 "metadata": {
  "kernelspec": {
   "display_name": "Python 3",
   "language": "python",
   "name": "python3"
  },
  "language_info": {
   "codemirror_mode": {
    "name": "ipython",
    "version": 3
   },
   "file_extension": ".py",
   "mimetype": "text/x-python",
   "name": "python",
   "nbconvert_exporter": "python",
   "pygments_lexer": "ipython3",
   "version": "3.6.3"
  }
 },
 "nbformat": 4,
 "nbformat_minor": 1
}
