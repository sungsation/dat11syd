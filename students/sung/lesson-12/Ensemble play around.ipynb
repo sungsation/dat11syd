{
 "cells": [
  {
   "cell_type": "code",
   "execution_count": 42,
   "metadata": {},
   "outputs": [],
   "source": [
    "import pandas as pd\n",
    "import sklearn.linear_model as lm\n",
    "import sklearn.model_selection\n",
    "import sklearn.metrics\n",
    "import sklearn.dummy\n",
    "import matplotlib.pyplot as plt"
   ]
  },
  {
   "cell_type": "code",
   "execution_count": 43,
   "metadata": {},
   "outputs": [],
   "source": [
    "chicago = pd.read_csv('../../../data/chicagohouseprices2.csv', index_col=0).dropna()"
   ]
  },
  {
   "cell_type": "code",
   "execution_count": 66,
   "metadata": {},
   "outputs": [
    {
     "data": {
      "text/html": [
       "<div>\n",
       "<style>\n",
       "    .dataframe thead tr:only-child th {\n",
       "        text-align: right;\n",
       "    }\n",
       "\n",
       "    .dataframe thead th {\n",
       "        text-align: left;\n",
       "    }\n",
       "\n",
       "    .dataframe tbody tr th {\n",
       "        vertical-align: top;\n",
       "    }\n",
       "</style>\n",
       "<table border=\"1\" class=\"dataframe\">\n",
       "  <thead>\n",
       "    <tr style=\"text-align: right;\">\n",
       "      <th></th>\n",
       "      <th>Price</th>\n",
       "      <th>Bath</th>\n",
       "      <th>CrimeIndex</th>\n",
       "      <th>MinutesToLoop</th>\n",
       "      <th>MilesToLake</th>\n",
       "      <th>Age</th>\n",
       "      <th>LotSizeSqft</th>\n",
       "      <th>HouseSizeSqft</th>\n",
       "      <th>SchoolIndex</th>\n",
       "      <th>EstimatedPrice</th>\n",
       "    </tr>\n",
       "  </thead>\n",
       "  <tbody>\n",
       "    <tr>\n",
       "      <th>count</th>\n",
       "      <td>6.900000e+01</td>\n",
       "      <td>69.000000</td>\n",
       "      <td>69.000000</td>\n",
       "      <td>69.000000</td>\n",
       "      <td>69.000000</td>\n",
       "      <td>69.000000</td>\n",
       "      <td>69.000000</td>\n",
       "      <td>69.000000</td>\n",
       "      <td>69.000000</td>\n",
       "      <td>6.900000e+01</td>\n",
       "    </tr>\n",
       "    <tr>\n",
       "      <th>mean</th>\n",
       "      <td>7.348043e+05</td>\n",
       "      <td>2.260870</td>\n",
       "      <td>4.783623</td>\n",
       "      <td>9.463768</td>\n",
       "      <td>3.402174</td>\n",
       "      <td>78.072464</td>\n",
       "      <td>2733.579710</td>\n",
       "      <td>2181.420290</td>\n",
       "      <td>47.375362</td>\n",
       "      <td>7.421902e+05</td>\n",
       "    </tr>\n",
       "    <tr>\n",
       "      <th>std</th>\n",
       "      <td>6.167301e+05</td>\n",
       "      <td>0.885374</td>\n",
       "      <td>1.218092</td>\n",
       "      <td>1.890998</td>\n",
       "      <td>0.359709</td>\n",
       "      <td>55.082110</td>\n",
       "      <td>996.344767</td>\n",
       "      <td>1031.613605</td>\n",
       "      <td>18.107022</td>\n",
       "      <td>5.997353e+05</td>\n",
       "    </tr>\n",
       "    <tr>\n",
       "      <th>min</th>\n",
       "      <td>2.160000e+05</td>\n",
       "      <td>1.000000</td>\n",
       "      <td>1.090000</td>\n",
       "      <td>6.000000</td>\n",
       "      <td>2.860000</td>\n",
       "      <td>0.000000</td>\n",
       "      <td>436.000000</td>\n",
       "      <td>0.000000</td>\n",
       "      <td>16.700000</td>\n",
       "      <td>2.095200e+05</td>\n",
       "    </tr>\n",
       "    <tr>\n",
       "      <th>25%</th>\n",
       "      <td>4.350000e+05</td>\n",
       "      <td>2.000000</td>\n",
       "      <td>4.500000</td>\n",
       "      <td>9.000000</td>\n",
       "      <td>3.080000</td>\n",
       "      <td>8.000000</td>\n",
       "      <td>2614.000000</td>\n",
       "      <td>1484.000000</td>\n",
       "      <td>36.100000</td>\n",
       "      <td>4.636440e+05</td>\n",
       "    </tr>\n",
       "    <tr>\n",
       "      <th>50%</th>\n",
       "      <td>5.850000e+05</td>\n",
       "      <td>2.000000</td>\n",
       "      <td>4.930000</td>\n",
       "      <td>9.000000</td>\n",
       "      <td>3.400000</td>\n",
       "      <td>114.000000</td>\n",
       "      <td>2614.000000</td>\n",
       "      <td>2183.000000</td>\n",
       "      <td>50.000000</td>\n",
       "      <td>5.968200e+05</td>\n",
       "    </tr>\n",
       "    <tr>\n",
       "      <th>75%</th>\n",
       "      <td>7.220000e+05</td>\n",
       "      <td>3.000000</td>\n",
       "      <td>5.580000</td>\n",
       "      <td>10.000000</td>\n",
       "      <td>3.670000</td>\n",
       "      <td>121.000000</td>\n",
       "      <td>3049.000000</td>\n",
       "      <td>2728.000000</td>\n",
       "      <td>59.500000</td>\n",
       "      <td>7.377500e+05</td>\n",
       "    </tr>\n",
       "    <tr>\n",
       "      <th>max</th>\n",
       "      <td>3.686000e+06</td>\n",
       "      <td>4.000000</td>\n",
       "      <td>8.080000</td>\n",
       "      <td>22.000000</td>\n",
       "      <td>4.200000</td>\n",
       "      <td>131.000000</td>\n",
       "      <td>7405.000000</td>\n",
       "      <td>6422.000000</td>\n",
       "      <td>93.900000</td>\n",
       "      <td>3.973508e+06</td>\n",
       "    </tr>\n",
       "  </tbody>\n",
       "</table>\n",
       "</div>"
      ],
      "text/plain": [
       "              Price       Bath  CrimeIndex  MinutesToLoop  MilesToLake  \\\n",
       "count  6.900000e+01  69.000000   69.000000      69.000000    69.000000   \n",
       "mean   7.348043e+05   2.260870    4.783623       9.463768     3.402174   \n",
       "std    6.167301e+05   0.885374    1.218092       1.890998     0.359709   \n",
       "min    2.160000e+05   1.000000    1.090000       6.000000     2.860000   \n",
       "25%    4.350000e+05   2.000000    4.500000       9.000000     3.080000   \n",
       "50%    5.850000e+05   2.000000    4.930000       9.000000     3.400000   \n",
       "75%    7.220000e+05   3.000000    5.580000      10.000000     3.670000   \n",
       "max    3.686000e+06   4.000000    8.080000      22.000000     4.200000   \n",
       "\n",
       "              Age  LotSizeSqft  HouseSizeSqft  SchoolIndex  EstimatedPrice  \n",
       "count   69.000000    69.000000      69.000000    69.000000    6.900000e+01  \n",
       "mean    78.072464  2733.579710    2181.420290    47.375362    7.421902e+05  \n",
       "std     55.082110   996.344767    1031.613605    18.107022    5.997353e+05  \n",
       "min      0.000000   436.000000       0.000000    16.700000    2.095200e+05  \n",
       "25%      8.000000  2614.000000    1484.000000    36.100000    4.636440e+05  \n",
       "50%    114.000000  2614.000000    2183.000000    50.000000    5.968200e+05  \n",
       "75%    121.000000  3049.000000    2728.000000    59.500000    7.377500e+05  \n",
       "max    131.000000  7405.000000    6422.000000    93.900000    3.973508e+06  "
      ]
     },
     "execution_count": 66,
     "metadata": {},
     "output_type": "execute_result"
    }
   ],
   "source": [
    "chicago.describe()"
   ]
  },
  {
   "cell_type": "code",
   "execution_count": 45,
   "metadata": {},
   "outputs": [
    {
     "data": {
      "text/plain": [
       "Address            object\n",
       "Neighborhood       object\n",
       "HouseType          object\n",
       "Price               int64\n",
       "Bath              float64\n",
       "CrimeIndex        float64\n",
       "MinutesToLoop       int64\n",
       "MilesToLake       float64\n",
       "Age                 int64\n",
       "LotSizeSqft         int64\n",
       "HouseSizeSqft       int64\n",
       "SchoolIndex       float64\n",
       "EstimatedPrice    float64\n",
       "dtype: object"
      ]
     },
     "execution_count": 45,
     "metadata": {},
     "output_type": "execute_result"
    }
   ],
   "source": [
    "chicago.dtypes"
   ]
  },
  {
   "cell_type": "code",
   "execution_count": 50,
   "metadata": {
    "collapsed": true
   },
   "outputs": [],
   "source": [
    "X_columns = ['Bath','CrimeIndex','MinutesToLoop','MilesToLake','Age','LotSizeSqft', 'HouseSizeSqft','SchoolIndex']"
   ]
  },
  {
   "cell_type": "code",
   "execution_count": 51,
   "metadata": {
    "collapsed": true
   },
   "outputs": [],
   "source": [
    "Y = chicago.Price"
   ]
  },
  {
   "cell_type": "code",
   "execution_count": 67,
   "metadata": {},
   "outputs": [
    {
     "name": "stderr",
     "output_type": "stream",
     "text": [
      "C:\\ProgramData\\Anaconda3\\lib\\site-packages\\sklearn\\model_selection\\_split.py:2026: FutureWarning: From version 0.21, test_size will always complement train_size unless both are specified.\n",
      "  FutureWarning)\n"
     ]
    }
   ],
   "source": [
    "Xtrain, Xtest, Ytrain, Ytest = sklearn.model_selection.train_test_split(chicago[X_columns],Y, train_size=0.7)"
   ]
  },
  {
   "cell_type": "code",
   "execution_count": 68,
   "metadata": {},
   "outputs": [
    {
     "data": {
      "text/plain": [
       "-0.87132160950994608"
      ]
     },
     "execution_count": 68,
     "metadata": {},
     "output_type": "execute_result"
    }
   ],
   "source": [
    "lr = sklearn.linear_model.LinearRegression()\n",
    "lr.fit(Xtrain,Ytrain)\n",
    "sklearn.metrics.r2_score(Ytest, lr.predict(Xtest))"
   ]
  },
  {
   "cell_type": "code",
   "execution_count": 69,
   "metadata": {},
   "outputs": [
    {
     "data": {
      "text/plain": [
       "-0.0023107317053427945"
      ]
     },
     "execution_count": 69,
     "metadata": {},
     "output_type": "execute_result"
    }
   ],
   "source": [
    "dummy = sklearn.dummy.DummyRegressor()\n",
    "dummy.fit(Xtrain, Ytrain)\n",
    "sklearn.metrics.r2_score(Ytest, dummy.predict(Xtest))"
   ]
  },
  {
   "cell_type": "code",
   "execution_count": 70,
   "metadata": {
    "scrolled": true
   },
   "outputs": [
    {
     "ename": "TypeError",
     "evalue": "predict() missing 1 required positional argument: 'X'",
     "output_type": "error",
     "traceback": [
      "\u001b[1;31m---------------------------------------------------------------------------\u001b[0m",
      "\u001b[1;31mTypeError\u001b[0m                                 Traceback (most recent call last)",
      "\u001b[1;32m<ipython-input-70-1b311e9f9c0b>\u001b[0m in \u001b[0;36m<module>\u001b[1;34m()\u001b[0m\n\u001b[1;32m----> 1\u001b[1;33m \u001b[0mplt\u001b[0m\u001b[1;33m.\u001b[0m\u001b[0mscatter\u001b[0m\u001b[1;33m(\u001b[0m\u001b[0mYtest\u001b[0m\u001b[1;33m,\u001b[0m \u001b[0mlm\u001b[0m\u001b[1;33m.\u001b[0m\u001b[0mElasticNet\u001b[0m\u001b[1;33m.\u001b[0m\u001b[0mpredict\u001b[0m\u001b[1;33m(\u001b[0m\u001b[0mXtest\u001b[0m\u001b[1;33m)\u001b[0m\u001b[1;33m)\u001b[0m\u001b[1;33m\u001b[0m\u001b[0m\n\u001b[0m",
      "\u001b[1;31mTypeError\u001b[0m: predict() missing 1 required positional argument: 'X'"
     ]
    }
   ],
   "source": [
    "plt.scatter(Ytest, lm.ElasticNet.predict(Xtest))"
   ]
  },
  {
   "cell_type": "code",
   "execution_count": 71,
   "metadata": {
    "collapsed": true
   },
   "outputs": [],
   "source": [
    "#should try this with median absolute error as well"
   ]
  },
  {
   "cell_type": "code",
   "execution_count": null,
   "metadata": {},
   "outputs": [],
   "source": [
    "#Pauls favourite regressor - RANSAC, Theil-Sen, Huber \n",
    "#\n",
    "#"
   ]
  },
  {
   "cell_type": "code",
   "execution_count": null,
   "metadata": {
    "collapsed": true
   },
   "outputs": [],
   "source": [
    "## Random forest -- 1st one to go for usually (for linear go do the above three)\n"
   ]
  }
 ],
 "metadata": {
  "kernelspec": {
   "display_name": "Python 3",
   "language": "python",
   "name": "python3"
  },
  "language_info": {
   "codemirror_mode": {
    "name": "ipython",
    "version": 3
   },
   "file_extension": ".py",
   "mimetype": "text/x-python",
   "name": "python",
   "nbconvert_exporter": "python",
   "pygments_lexer": "ipython3",
   "version": "3.6.3"
  }
 },
 "nbformat": 4,
 "nbformat_minor": 2
}
